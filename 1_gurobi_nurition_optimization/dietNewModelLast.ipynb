{
 "cells": [
  {
   "cell_type": "code",
   "execution_count": 1,
   "id": "d22b9807",
   "metadata": {},
   "outputs": [],
   "source": [
    "\n",
    "import os\n",
    "import xlrd\n",
    "\n",
    "from gurobipy import *\n"
   ]
  },
  {
   "cell_type": "code",
   "execution_count": 2,
   "id": "546630ba",
   "metadata": {},
   "outputs": [],
   "source": [
    "# ------------------------ input path and output path --------------------------------\n",
    "path_inputData = \"sample_data4.xls\"\n",
    "path_ModelSave = \"model.mps\""
   ]
  },
  {
   "cell_type": "code",
   "execution_count": 3,
   "id": "e54902b1",
   "metadata": {},
   "outputs": [
    {
     "name": "stdout",
     "output_type": "stream",
     "text": [
      "2.49\n",
      "2.49\n",
      "1.5\n",
      "1.89\n",
      "2.09\n",
      "2.89\n",
      "0.89\n",
      "1.59\n",
      "1.99\n",
      "Set parameter Username\n",
      "Academic license - for non-commercial use only - expires 2022-03-13\n"
     ]
    }
   ],
   "source": [
    "diet = xlrd.open_workbook(path_inputData)\n",
    "\n",
    "sh = diet.sheet_by_name(\"categories\")\n",
    "categories = []\n",
    "minNutrition = {}\n",
    "maxNutrition = {}\n",
    "i = 1\n",
    "while True:\n",
    "    try:\n",
    "        c = sh.cell_value(i, 0)\n",
    "        categories.append(c)\n",
    "        minNutrition[c] = sh.cell_value(i,1)\n",
    "        maxNutrition[c] = sh.cell_value(i,2)\n",
    "        i = i + 1\n",
    "    except IndexError:\n",
    "        break\n",
    "\n",
    "sh = diet.sheet_by_name(\"foods\")\n",
    "foods = []\n",
    "cost = {}\n",
    "i = 1\n",
    "while True:\n",
    "    try:\n",
    "        f = sh.cell_value(i, 0)\n",
    "        foods.append(f)\n",
    "        cost[f] = sh.cell_value(i,1)\n",
    "        print(cost[f])\n",
    "        i = i + 1\n",
    "    except IndexError:\n",
    "        break\n",
    "\n",
    "sh = diet.sheet_by_name(\"nutrition_quantities\")\n",
    "nutritionValues = {}\n",
    "for i in range(len(foods)):\n",
    "    for j in range(len(categories)):\n",
    "        nutritionValues[sh.cell_value(4*i+j+1,0),sh.cell_value(4*i+j+1,1)] = sh.cell_value(4*i+j+1,2)\n",
    "\n",
    "m = Model(\"diet\")\n"
   ]
  },
  {
   "cell_type": "code",
   "execution_count": 4,
   "id": "284419be",
   "metadata": {},
   "outputs": [],
   "source": [
    "def solve(categories, minNutrition, maxNutrition, foods, cost,\n",
    "          nutritionValues):\n",
    "    # Model\n",
    "\n",
    "\n",
    "    # Create decision variables for the nutrition information,\n",
    "    # which we limit via bounds\n",
    "    nutrition = {}\n",
    "    for c in categories:\n",
    "        nutrition[c] = m.addVar(lb=minNutrition[c], ub=maxNutrition[c], name=c)\n",
    "        print(nutrition[c])\n",
    "    print(\"\\n\")\n",
    "\n",
    "    # Create decision variables for the foods to buy\n",
    "    buy = {}\n",
    "    for f in foods:\n",
    "        buy[f] = m.addVar(obj=cost[f], name=f)\n",
    "        \n",
    "\n",
    "    # The objective is to minimize the costs\n",
    "    m.modelSense = GRB.MINIMIZE\n",
    "\n",
    "    # Update model to integrate new variables\n",
    "    m.update()\n",
    "\n",
    "    # Nutrition constraints\n",
    "    for c in categories:\n",
    "        m.addConstr(\n",
    "          quicksum(nutritionValues[f,c] * buy[f] for f in foods) ==\n",
    "                    nutrition[c], c)\n",
    "    \n",
    "    def printSolution():\n",
    "        if m.status == GRB.status.OPTIMAL:\n",
    "            print ('\\nCost:', m.objVal)\n",
    "            print ('\\nBuy:')\n",
    "            for f in foods:\n",
    "                if buy[f].x > 0.0001:\n",
    "                    print (f, buy[f].x)\n",
    "            print ('\\nNutrition:')\n",
    "            for c in categories:\n",
    "                print (c, nutrition[c].x)\n",
    "        else:\n",
    "            print ('No solution')\n",
    "\n",
    "    # Solve\n",
    "    m.optimize()\n",
    "    printSolution()\n"
   ]
  },
  {
   "cell_type": "code",
   "execution_count": 5,
   "id": "7f16bec2",
   "metadata": {},
   "outputs": [
    {
     "name": "stdout",
     "output_type": "stream",
     "text": [
      "<gurobi.Var *Awaiting Model Update*>\n",
      "<gurobi.Var *Awaiting Model Update*>\n",
      "<gurobi.Var *Awaiting Model Update*>\n",
      "<gurobi.Var *Awaiting Model Update*>\n",
      "\n",
      "\n",
      "Gurobi Optimizer version 9.5.0 build v9.5.0rc5 (win64)\n",
      "Thread count: 4 physical cores, 8 logical processors, using up to 8 threads\n",
      "Optimize a model with 4 rows, 13 columns and 40 nonzeros\n",
      "Model fingerprint: 0x7c5af4b8\n",
      "Coefficient statistics:\n",
      "  Matrix range     [1e+00, 2e+03]\n",
      "  Objective range  [9e-01, 3e+00]\n",
      "  Bounds range     [9e-01, 2e+03]\n",
      "  RHS range        [0e+00, 0e+00]\n",
      "Presolve removed 0 rows and 2 columns\n",
      "Presolve time: 0.01s\n",
      "Presolved: 4 rows, 11 columns, 38 nonzeros\n",
      "\n",
      "Iteration    Objective       Primal Inf.    Dual Inf.      Time\n",
      "       0    0.0000000e+00   5.636375e+01   0.000000e+00      0s\n",
      "       2    8.0336241e+00   0.000000e+00   0.000000e+00      0s\n",
      "\n",
      "Solved in 2 iterations and 0.01 seconds (0.00 work units)\n",
      "Optimal objective  8.033624088e+00\n",
      "\n",
      "Cost: 8.03362408759124\n",
      "\n",
      "Buy:\n",
      "hot dog 0.5333941605839416\n",
      "ice cream 4.549391727493917\n",
      "\n",
      "Nutrition:\n",
      "protein 47.06301703163017\n",
      "calories 1800.0\n",
      "fat 62.562530413625296\n",
      "sodium 1779.0\n"
     ]
    }
   ],
   "source": [
    "solve(categories, minNutrition, maxNutrition,\n",
    "                foods, cost, nutritionValues)\n"
   ]
  },
  {
   "cell_type": "code",
   "execution_count": 6,
   "id": "fcd440cf",
   "metadata": {},
   "outputs": [
    {
     "name": "stdout",
     "output_type": "stream",
     "text": [
      "Warning: variable name \"hot dog\" has a space\n",
      "Warning: default variable names used to write mps file\n"
     ]
    }
   ],
   "source": [
    "\n",
    "m.write(path_ModelSave)"
   ]
  }
 ],
 "metadata": {
  "jupytext": {
   "cell_metadata_filter": "-all",
   "main_language": "python",
   "notebook_metadata_filter": "-all"
  },
  "kernelspec": {
   "display_name": "Python 3 (ipykernel)",
   "language": "python",
   "name": "python3"
  },
  "language_info": {
   "codemirror_mode": {
    "name": "ipython",
    "version": 3
   },
   "file_extension": ".py",
   "mimetype": "text/x-python",
   "name": "python",
   "nbconvert_exporter": "python",
   "pygments_lexer": "ipython3",
   "version": "3.9.7"
  }
 },
 "nbformat": 4,
 "nbformat_minor": 5
}
